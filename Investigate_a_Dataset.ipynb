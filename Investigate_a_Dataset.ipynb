{
 "cells": [
  {
   "cell_type": "markdown",
   "metadata": {},
   "source": [
    "\n",
    "# Project: Investigate a Dataset - TMDb Movie Data\n",
    "\n",
    "## Table of Contents\n",
    "<ul>\n",
    "<li><a href=\"#intro\">Introduction</a></li>\n",
    "<li><a href=\"#wrangling\">Data Wrangling</a></li>\n",
    "<li><a href=\"#eda\">Exploratory Data Analysis</a></li>\n",
    "<li><a href=\"#conclusions\">Conclusions</a></li>\n",
    "</ul>"
   ]
  },
  {
   "cell_type": "markdown",
   "metadata": {},
   "source": [
    "<a id='intro'></a>\n",
    "## Introduction\n",
    "\n",
    "### Dataset Description \n",
    "\n",
    "> **TMDB Movie Data Set** contains information about 10,000 movies collected from The Movie Database (TMDb). \n",
    "    > The following is the list of all column names, description and their significance for the analysis to answer the questions below.They are marked as S for Significant and NS for not significant based on if it has been used for the analysis.  \n",
    "    >  **id** (S) : identification number for the rows   \n",
    "    >  **imdb_id** (NS) : id given by IMDb, not significant, we already have one id column                 \n",
    "    >  **popularity** (NS) : measure of the poularity based on page views of pages related to the movie.          \n",
    "    >  **budget** (NS) : the overall cost of the movie, not significant because we will use the adjusted budget column                \n",
    "    >  **revenue** (NS) : the overall revenue of the movie, not significant because we will use the adjusted revenue column               \n",
    "    >  **original_title** (NS) : the name of the movie           \n",
    "    >  **cast** (NS) : the name of the main actors/actreses                 \n",
    "    >  **homepage** (NS) : the website page for the movie             \n",
    "    >  **director** (S) : the name of the director of the movie           \n",
    "    >  **tagline** (NS) :  the tagline of the movie, like the catchphrase or slogan of the movie              \n",
    "    >  **keywords** (NS)             \n",
    "    >  **overview** (NS) : short description of the movie           \n",
    "    >  **runtime** (NS) : length of the movie in minutes                 \n",
    "    >  **genres**  (S) : the category of the movie based on the setting, characters, plot, mood, tone, and theme. The dataset associated multiple genres for each movie.               \n",
    "    >  **production_companies**  (NS) :  companies that made the movie  \n",
    "    >  **release_date** (NS) : the release date including the date,month and year        \n",
    "    >  **vote_count** (S) : the total number of votes for the movie at IMDb            \n",
    "    >  **vote_average** (NS) : the average vote the rating out of 10 divided by the number of vote counts         \n",
    "    >  **release_year** (S) : the year the movie released            \n",
    "    >  **budget_adj**: Adjusted budget in terms of 2010 dollars, accounting for inflation over time.    \n",
    "    >  **revenue_adj**: Adjusted revenue in terms of 2010 dollars, accounting for inflation over time.         \n",
    "\n",
    "\n",
    "### Questions for Analysis\n",
    ">In this projecct the dataset is investigated to answer the following questions focusing on the properties associated with the highest revenue earner of each release year. \n",
    "> 1. Which genre is the most associated with the top movie of the release year by revenue\n",
    "> 2. Which Director has the most movies which are the top movie of the release year by revenue\n",
    "> 3. What is the vote average associated with the top movie of the release year by revenue  "
   ]
  },
  {
   "cell_type": "code",
   "execution_count": 1,
   "metadata": {},
   "outputs": [],
   "source": [
    "# import the packages that are used in this project \n",
    "\n",
    "import pandas as pd\n",
    "import numpy as np\n",
    "import matplotlib.pyplot as plt \n",
    "import seaborn as sns\n",
    "%matplotlib inline \n"
   ]
  },
  {
   "cell_type": "markdown",
   "metadata": {},
   "source": [
    "<a id='wrangling'></a>\n",
    "## Data Wrangling\n",
    "\n",
    "> In this section of the report,we will load in the data, check for cleanliness, and then trim and clean the dataset for analysis. "
   ]
  },
  {
   "cell_type": "code",
   "execution_count": 2,
   "metadata": {},
   "outputs": [
    {
     "data": {
      "text/html": [
       "<div>\n",
       "<style scoped>\n",
       "    .dataframe tbody tr th:only-of-type {\n",
       "        vertical-align: middle;\n",
       "    }\n",
       "\n",
       "    .dataframe tbody tr th {\n",
       "        vertical-align: top;\n",
       "    }\n",
       "\n",
       "    .dataframe thead th {\n",
       "        text-align: right;\n",
       "    }\n",
       "</style>\n",
       "<table border=\"1\" class=\"dataframe\">\n",
       "  <thead>\n",
       "    <tr style=\"text-align: right;\">\n",
       "      <th></th>\n",
       "      <th>id</th>\n",
       "      <th>imdb_id</th>\n",
       "      <th>popularity</th>\n",
       "      <th>budget</th>\n",
       "      <th>revenue</th>\n",
       "      <th>original_title</th>\n",
       "      <th>cast</th>\n",
       "      <th>homepage</th>\n",
       "      <th>director</th>\n",
       "      <th>tagline</th>\n",
       "      <th>...</th>\n",
       "      <th>overview</th>\n",
       "      <th>runtime</th>\n",
       "      <th>genres</th>\n",
       "      <th>production_companies</th>\n",
       "      <th>release_date</th>\n",
       "      <th>vote_count</th>\n",
       "      <th>vote_average</th>\n",
       "      <th>release_year</th>\n",
       "      <th>budget_adj</th>\n",
       "      <th>revenue_adj</th>\n",
       "    </tr>\n",
       "  </thead>\n",
       "  <tbody>\n",
       "    <tr>\n",
       "      <th>0</th>\n",
       "      <td>135397</td>\n",
       "      <td>tt0369610</td>\n",
       "      <td>32.985763</td>\n",
       "      <td>150000000</td>\n",
       "      <td>1513528810</td>\n",
       "      <td>Jurassic World</td>\n",
       "      <td>Chris Pratt|Bryce Dallas Howard|Irrfan Khan|Vi...</td>\n",
       "      <td>http://www.jurassicworld.com/</td>\n",
       "      <td>Colin Trevorrow</td>\n",
       "      <td>The park is open.</td>\n",
       "      <td>...</td>\n",
       "      <td>Twenty-two years after the events of Jurassic ...</td>\n",
       "      <td>124</td>\n",
       "      <td>Action|Adventure|Science Fiction|Thriller</td>\n",
       "      <td>Universal Studios|Amblin Entertainment|Legenda...</td>\n",
       "      <td>6/9/15</td>\n",
       "      <td>5562</td>\n",
       "      <td>6.5</td>\n",
       "      <td>2015</td>\n",
       "      <td>1.379999e+08</td>\n",
       "      <td>1.392446e+09</td>\n",
       "    </tr>\n",
       "    <tr>\n",
       "      <th>1</th>\n",
       "      <td>76341</td>\n",
       "      <td>tt1392190</td>\n",
       "      <td>28.419936</td>\n",
       "      <td>150000000</td>\n",
       "      <td>378436354</td>\n",
       "      <td>Mad Max: Fury Road</td>\n",
       "      <td>Tom Hardy|Charlize Theron|Hugh Keays-Byrne|Nic...</td>\n",
       "      <td>http://www.madmaxmovie.com/</td>\n",
       "      <td>George Miller</td>\n",
       "      <td>What a Lovely Day.</td>\n",
       "      <td>...</td>\n",
       "      <td>An apocalyptic story set in the furthest reach...</td>\n",
       "      <td>120</td>\n",
       "      <td>Action|Adventure|Science Fiction|Thriller</td>\n",
       "      <td>Village Roadshow Pictures|Kennedy Miller Produ...</td>\n",
       "      <td>5/13/15</td>\n",
       "      <td>6185</td>\n",
       "      <td>7.1</td>\n",
       "      <td>2015</td>\n",
       "      <td>1.379999e+08</td>\n",
       "      <td>3.481613e+08</td>\n",
       "    </tr>\n",
       "    <tr>\n",
       "      <th>2</th>\n",
       "      <td>262500</td>\n",
       "      <td>tt2908446</td>\n",
       "      <td>13.112507</td>\n",
       "      <td>110000000</td>\n",
       "      <td>295238201</td>\n",
       "      <td>Insurgent</td>\n",
       "      <td>Shailene Woodley|Theo James|Kate Winslet|Ansel...</td>\n",
       "      <td>http://www.thedivergentseries.movie/#insurgent</td>\n",
       "      <td>Robert Schwentke</td>\n",
       "      <td>One Choice Can Destroy You</td>\n",
       "      <td>...</td>\n",
       "      <td>Beatrice Prior must confront her inner demons ...</td>\n",
       "      <td>119</td>\n",
       "      <td>Adventure|Science Fiction|Thriller</td>\n",
       "      <td>Summit Entertainment|Mandeville Films|Red Wago...</td>\n",
       "      <td>3/18/15</td>\n",
       "      <td>2480</td>\n",
       "      <td>6.3</td>\n",
       "      <td>2015</td>\n",
       "      <td>1.012000e+08</td>\n",
       "      <td>2.716190e+08</td>\n",
       "    </tr>\n",
       "    <tr>\n",
       "      <th>3</th>\n",
       "      <td>140607</td>\n",
       "      <td>tt2488496</td>\n",
       "      <td>11.173104</td>\n",
       "      <td>200000000</td>\n",
       "      <td>2068178225</td>\n",
       "      <td>Star Wars: The Force Awakens</td>\n",
       "      <td>Harrison Ford|Mark Hamill|Carrie Fisher|Adam D...</td>\n",
       "      <td>http://www.starwars.com/films/star-wars-episod...</td>\n",
       "      <td>J.J. Abrams</td>\n",
       "      <td>Every generation has a story.</td>\n",
       "      <td>...</td>\n",
       "      <td>Thirty years after defeating the Galactic Empi...</td>\n",
       "      <td>136</td>\n",
       "      <td>Action|Adventure|Science Fiction|Fantasy</td>\n",
       "      <td>Lucasfilm|Truenorth Productions|Bad Robot</td>\n",
       "      <td>12/15/15</td>\n",
       "      <td>5292</td>\n",
       "      <td>7.5</td>\n",
       "      <td>2015</td>\n",
       "      <td>1.839999e+08</td>\n",
       "      <td>1.902723e+09</td>\n",
       "    </tr>\n",
       "    <tr>\n",
       "      <th>4</th>\n",
       "      <td>168259</td>\n",
       "      <td>tt2820852</td>\n",
       "      <td>9.335014</td>\n",
       "      <td>190000000</td>\n",
       "      <td>1506249360</td>\n",
       "      <td>Furious 7</td>\n",
       "      <td>Vin Diesel|Paul Walker|Jason Statham|Michelle ...</td>\n",
       "      <td>http://www.furious7.com/</td>\n",
       "      <td>James Wan</td>\n",
       "      <td>Vengeance Hits Home</td>\n",
       "      <td>...</td>\n",
       "      <td>Deckard Shaw seeks revenge against Dominic Tor...</td>\n",
       "      <td>137</td>\n",
       "      <td>Action|Crime|Thriller</td>\n",
       "      <td>Universal Pictures|Original Film|Media Rights ...</td>\n",
       "      <td>4/1/15</td>\n",
       "      <td>2947</td>\n",
       "      <td>7.3</td>\n",
       "      <td>2015</td>\n",
       "      <td>1.747999e+08</td>\n",
       "      <td>1.385749e+09</td>\n",
       "    </tr>\n",
       "  </tbody>\n",
       "</table>\n",
       "<p>5 rows × 21 columns</p>\n",
       "</div>"
      ],
      "text/plain": [
       "       id    imdb_id  popularity     budget     revenue  \\\n",
       "0  135397  tt0369610   32.985763  150000000  1513528810   \n",
       "1   76341  tt1392190   28.419936  150000000   378436354   \n",
       "2  262500  tt2908446   13.112507  110000000   295238201   \n",
       "3  140607  tt2488496   11.173104  200000000  2068178225   \n",
       "4  168259  tt2820852    9.335014  190000000  1506249360   \n",
       "\n",
       "                 original_title  \\\n",
       "0                Jurassic World   \n",
       "1            Mad Max: Fury Road   \n",
       "2                     Insurgent   \n",
       "3  Star Wars: The Force Awakens   \n",
       "4                     Furious 7   \n",
       "\n",
       "                                                cast  \\\n",
       "0  Chris Pratt|Bryce Dallas Howard|Irrfan Khan|Vi...   \n",
       "1  Tom Hardy|Charlize Theron|Hugh Keays-Byrne|Nic...   \n",
       "2  Shailene Woodley|Theo James|Kate Winslet|Ansel...   \n",
       "3  Harrison Ford|Mark Hamill|Carrie Fisher|Adam D...   \n",
       "4  Vin Diesel|Paul Walker|Jason Statham|Michelle ...   \n",
       "\n",
       "                                            homepage          director  \\\n",
       "0                      http://www.jurassicworld.com/   Colin Trevorrow   \n",
       "1                        http://www.madmaxmovie.com/     George Miller   \n",
       "2     http://www.thedivergentseries.movie/#insurgent  Robert Schwentke   \n",
       "3  http://www.starwars.com/films/star-wars-episod...       J.J. Abrams   \n",
       "4                           http://www.furious7.com/         James Wan   \n",
       "\n",
       "                         tagline  ...  \\\n",
       "0              The park is open.  ...   \n",
       "1             What a Lovely Day.  ...   \n",
       "2     One Choice Can Destroy You  ...   \n",
       "3  Every generation has a story.  ...   \n",
       "4            Vengeance Hits Home  ...   \n",
       "\n",
       "                                            overview runtime  \\\n",
       "0  Twenty-two years after the events of Jurassic ...     124   \n",
       "1  An apocalyptic story set in the furthest reach...     120   \n",
       "2  Beatrice Prior must confront her inner demons ...     119   \n",
       "3  Thirty years after defeating the Galactic Empi...     136   \n",
       "4  Deckard Shaw seeks revenge against Dominic Tor...     137   \n",
       "\n",
       "                                      genres  \\\n",
       "0  Action|Adventure|Science Fiction|Thriller   \n",
       "1  Action|Adventure|Science Fiction|Thriller   \n",
       "2         Adventure|Science Fiction|Thriller   \n",
       "3   Action|Adventure|Science Fiction|Fantasy   \n",
       "4                      Action|Crime|Thriller   \n",
       "\n",
       "                                production_companies release_date vote_count  \\\n",
       "0  Universal Studios|Amblin Entertainment|Legenda...       6/9/15       5562   \n",
       "1  Village Roadshow Pictures|Kennedy Miller Produ...      5/13/15       6185   \n",
       "2  Summit Entertainment|Mandeville Films|Red Wago...      3/18/15       2480   \n",
       "3          Lucasfilm|Truenorth Productions|Bad Robot     12/15/15       5292   \n",
       "4  Universal Pictures|Original Film|Media Rights ...       4/1/15       2947   \n",
       "\n",
       "   vote_average  release_year    budget_adj   revenue_adj  \n",
       "0           6.5          2015  1.379999e+08  1.392446e+09  \n",
       "1           7.1          2015  1.379999e+08  3.481613e+08  \n",
       "2           6.3          2015  1.012000e+08  2.716190e+08  \n",
       "3           7.5          2015  1.839999e+08  1.902723e+09  \n",
       "4           7.3          2015  1.747999e+08  1.385749e+09  \n",
       "\n",
       "[5 rows x 21 columns]"
      ]
     },
     "execution_count": 2,
     "metadata": {},
     "output_type": "execute_result"
    }
   ],
   "source": [
    "# Load the data and quick view the top five rows of the data \n",
    "df=pd.read_csv('tmdb-movies.csv')\n",
    "df.head()"
   ]
  },
  {
   "cell_type": "markdown",
   "metadata": {},
   "source": [
    ">the columns 'cast' , 'genre' and 'production_companies' has mulitiple values Separated by '|' "
   ]
  },
  {
   "cell_type": "code",
   "execution_count": 3,
   "metadata": {},
   "outputs": [
    {
     "data": {
      "text/plain": [
       "(10866, 21)"
      ]
     },
     "execution_count": 3,
     "metadata": {},
     "output_type": "execute_result"
    }
   ],
   "source": [
    "#the number of rows and columns \n",
    "df.shape"
   ]
  },
  {
   "cell_type": "markdown",
   "metadata": {},
   "source": [
    ">the data has 10866 movies and 21 columns "
   ]
  },
  {
   "cell_type": "code",
   "execution_count": 4,
   "metadata": {},
   "outputs": [
    {
     "name": "stdout",
     "output_type": "stream",
     "text": [
      "<class 'pandas.core.frame.DataFrame'>\n",
      "RangeIndex: 10866 entries, 0 to 10865\n",
      "Data columns (total 21 columns):\n",
      " #   Column                Non-Null Count  Dtype  \n",
      "---  ------                --------------  -----  \n",
      " 0   id                    10866 non-null  int64  \n",
      " 1   imdb_id               10856 non-null  object \n",
      " 2   popularity            10866 non-null  float64\n",
      " 3   budget                10866 non-null  int64  \n",
      " 4   revenue               10866 non-null  int64  \n",
      " 5   original_title        10866 non-null  object \n",
      " 6   cast                  10790 non-null  object \n",
      " 7   homepage              2936 non-null   object \n",
      " 8   director              10822 non-null  object \n",
      " 9   tagline               8042 non-null   object \n",
      " 10  keywords              9373 non-null   object \n",
      " 11  overview              10862 non-null  object \n",
      " 12  runtime               10866 non-null  int64  \n",
      " 13  genres                10843 non-null  object \n",
      " 14  production_companies  9836 non-null   object \n",
      " 15  release_date          10866 non-null  object \n",
      " 16  vote_count            10866 non-null  int64  \n",
      " 17  vote_average          10866 non-null  float64\n",
      " 18  release_year          10866 non-null  int64  \n",
      " 19  budget_adj            10866 non-null  float64\n",
      " 20  revenue_adj           10866 non-null  float64\n",
      "dtypes: float64(4), int64(6), object(11)\n",
      "memory usage: 1.7+ MB\n"
     ]
    }
   ],
   "source": [
    "#inspect the data types of each column and non null count \n",
    "df.info()"
   ]
  },
  {
   "cell_type": "markdown",
   "metadata": {},
   "source": [
    ">Main take aways \n",
    ">1. the imbd_id has 10856 non-null count which means 10 values are NaN, but the id column has 10866 non-null count with no missing value, so it better to use the id column for indexing column \n",
    ">2. popularity, budget, revenue, original_title, runtime, release_date, vote_count, vote_average, release_year, budget_adj, revenue_adj has 10866 non-null values that means no missing value in these columns \n",
    ">3. cast, homepage, director, tagline, keywords, overview, genres, production_companies has missing values\n",
    ">4. the data types of the columns looks ok. float for values with fractions and int for values whole numbers, object for strings  imbd_id data type is object because it uses letters and numbers to id a movie"
   ]
  },
  {
   "cell_type": "code",
   "execution_count": 5,
   "metadata": {},
   "outputs": [
    {
     "data": {
      "text/html": [
       "<div>\n",
       "<style scoped>\n",
       "    .dataframe tbody tr th:only-of-type {\n",
       "        vertical-align: middle;\n",
       "    }\n",
       "\n",
       "    .dataframe tbody tr th {\n",
       "        vertical-align: top;\n",
       "    }\n",
       "\n",
       "    .dataframe thead th {\n",
       "        text-align: right;\n",
       "    }\n",
       "</style>\n",
       "<table border=\"1\" class=\"dataframe\">\n",
       "  <thead>\n",
       "    <tr style=\"text-align: right;\">\n",
       "      <th></th>\n",
       "      <th>id</th>\n",
       "      <th>popularity</th>\n",
       "      <th>budget</th>\n",
       "      <th>revenue</th>\n",
       "      <th>runtime</th>\n",
       "      <th>vote_count</th>\n",
       "      <th>vote_average</th>\n",
       "      <th>release_year</th>\n",
       "      <th>budget_adj</th>\n",
       "      <th>revenue_adj</th>\n",
       "    </tr>\n",
       "  </thead>\n",
       "  <tbody>\n",
       "    <tr>\n",
       "      <th>count</th>\n",
       "      <td>10866.000000</td>\n",
       "      <td>10866.000000</td>\n",
       "      <td>1.086600e+04</td>\n",
       "      <td>1.086600e+04</td>\n",
       "      <td>10866.000000</td>\n",
       "      <td>10866.000000</td>\n",
       "      <td>10866.000000</td>\n",
       "      <td>10866.000000</td>\n",
       "      <td>1.086600e+04</td>\n",
       "      <td>1.086600e+04</td>\n",
       "    </tr>\n",
       "    <tr>\n",
       "      <th>mean</th>\n",
       "      <td>66064.177434</td>\n",
       "      <td>0.646441</td>\n",
       "      <td>1.462570e+07</td>\n",
       "      <td>3.982332e+07</td>\n",
       "      <td>102.070863</td>\n",
       "      <td>217.389748</td>\n",
       "      <td>5.974922</td>\n",
       "      <td>2001.322658</td>\n",
       "      <td>1.755104e+07</td>\n",
       "      <td>5.136436e+07</td>\n",
       "    </tr>\n",
       "    <tr>\n",
       "      <th>std</th>\n",
       "      <td>92130.136561</td>\n",
       "      <td>1.000185</td>\n",
       "      <td>3.091321e+07</td>\n",
       "      <td>1.170035e+08</td>\n",
       "      <td>31.381405</td>\n",
       "      <td>575.619058</td>\n",
       "      <td>0.935142</td>\n",
       "      <td>12.812941</td>\n",
       "      <td>3.430616e+07</td>\n",
       "      <td>1.446325e+08</td>\n",
       "    </tr>\n",
       "    <tr>\n",
       "      <th>min</th>\n",
       "      <td>5.000000</td>\n",
       "      <td>0.000065</td>\n",
       "      <td>0.000000e+00</td>\n",
       "      <td>0.000000e+00</td>\n",
       "      <td>0.000000</td>\n",
       "      <td>10.000000</td>\n",
       "      <td>1.500000</td>\n",
       "      <td>1960.000000</td>\n",
       "      <td>0.000000e+00</td>\n",
       "      <td>0.000000e+00</td>\n",
       "    </tr>\n",
       "    <tr>\n",
       "      <th>25%</th>\n",
       "      <td>10596.250000</td>\n",
       "      <td>0.207583</td>\n",
       "      <td>0.000000e+00</td>\n",
       "      <td>0.000000e+00</td>\n",
       "      <td>90.000000</td>\n",
       "      <td>17.000000</td>\n",
       "      <td>5.400000</td>\n",
       "      <td>1995.000000</td>\n",
       "      <td>0.000000e+00</td>\n",
       "      <td>0.000000e+00</td>\n",
       "    </tr>\n",
       "    <tr>\n",
       "      <th>50%</th>\n",
       "      <td>20669.000000</td>\n",
       "      <td>0.383856</td>\n",
       "      <td>0.000000e+00</td>\n",
       "      <td>0.000000e+00</td>\n",
       "      <td>99.000000</td>\n",
       "      <td>38.000000</td>\n",
       "      <td>6.000000</td>\n",
       "      <td>2006.000000</td>\n",
       "      <td>0.000000e+00</td>\n",
       "      <td>0.000000e+00</td>\n",
       "    </tr>\n",
       "    <tr>\n",
       "      <th>75%</th>\n",
       "      <td>75610.000000</td>\n",
       "      <td>0.713817</td>\n",
       "      <td>1.500000e+07</td>\n",
       "      <td>2.400000e+07</td>\n",
       "      <td>111.000000</td>\n",
       "      <td>145.750000</td>\n",
       "      <td>6.600000</td>\n",
       "      <td>2011.000000</td>\n",
       "      <td>2.085325e+07</td>\n",
       "      <td>3.369710e+07</td>\n",
       "    </tr>\n",
       "    <tr>\n",
       "      <th>max</th>\n",
       "      <td>417859.000000</td>\n",
       "      <td>32.985763</td>\n",
       "      <td>4.250000e+08</td>\n",
       "      <td>2.781506e+09</td>\n",
       "      <td>900.000000</td>\n",
       "      <td>9767.000000</td>\n",
       "      <td>9.200000</td>\n",
       "      <td>2015.000000</td>\n",
       "      <td>4.250000e+08</td>\n",
       "      <td>2.827124e+09</td>\n",
       "    </tr>\n",
       "  </tbody>\n",
       "</table>\n",
       "</div>"
      ],
      "text/plain": [
       "                  id    popularity        budget       revenue       runtime  \\\n",
       "count   10866.000000  10866.000000  1.086600e+04  1.086600e+04  10866.000000   \n",
       "mean    66064.177434      0.646441  1.462570e+07  3.982332e+07    102.070863   \n",
       "std     92130.136561      1.000185  3.091321e+07  1.170035e+08     31.381405   \n",
       "min         5.000000      0.000065  0.000000e+00  0.000000e+00      0.000000   \n",
       "25%     10596.250000      0.207583  0.000000e+00  0.000000e+00     90.000000   \n",
       "50%     20669.000000      0.383856  0.000000e+00  0.000000e+00     99.000000   \n",
       "75%     75610.000000      0.713817  1.500000e+07  2.400000e+07    111.000000   \n",
       "max    417859.000000     32.985763  4.250000e+08  2.781506e+09    900.000000   \n",
       "\n",
       "         vote_count  vote_average  release_year    budget_adj   revenue_adj  \n",
       "count  10866.000000  10866.000000  10866.000000  1.086600e+04  1.086600e+04  \n",
       "mean     217.389748      5.974922   2001.322658  1.755104e+07  5.136436e+07  \n",
       "std      575.619058      0.935142     12.812941  3.430616e+07  1.446325e+08  \n",
       "min       10.000000      1.500000   1960.000000  0.000000e+00  0.000000e+00  \n",
       "25%       17.000000      5.400000   1995.000000  0.000000e+00  0.000000e+00  \n",
       "50%       38.000000      6.000000   2006.000000  0.000000e+00  0.000000e+00  \n",
       "75%      145.750000      6.600000   2011.000000  2.085325e+07  3.369710e+07  \n",
       "max     9767.000000      9.200000   2015.000000  4.250000e+08  2.827124e+09  "
      ]
     },
     "execution_count": 5,
     "metadata": {},
     "output_type": "execute_result"
    }
   ],
   "source": [
    "#view some basic statistical details\n",
    "df.describe()"
   ]
  },
  {
   "cell_type": "markdown",
   "metadata": {},
   "source": [
    ">from the statistical details we can see that some of the values in budget, revenue, runtime, budget_adj, and revenue_adj has the value of 0. this is something we should look at before the analysis. "
   ]
  },
  {
   "cell_type": "code",
   "execution_count": 6,
   "metadata": {},
   "outputs": [
    {
     "data": {
      "text/plain": [
       "(6016, 21)"
      ]
     },
     "execution_count": 6,
     "metadata": {},
     "output_type": "execute_result"
    }
   ],
   "source": [
    "(df[df['revenue_adj']==0]).shape"
   ]
  },
  {
   "cell_type": "markdown",
   "metadata": {},
   "source": [
    "6016 values in revenue_adj are 0 "
   ]
  },
  {
   "cell_type": "code",
   "execution_count": 7,
   "metadata": {},
   "outputs": [
    {
     "data": {
      "text/plain": [
       "id                      10865\n",
       "imdb_id                 10855\n",
       "popularity              10814\n",
       "budget                    557\n",
       "revenue                  4702\n",
       "original_title          10571\n",
       "cast                    10719\n",
       "homepage                 2896\n",
       "director                 5067\n",
       "tagline                  7997\n",
       "keywords                 8804\n",
       "overview                10847\n",
       "runtime                   247\n",
       "genres                   2039\n",
       "production_companies     7445\n",
       "release_date             5909\n",
       "vote_count               1289\n",
       "vote_average               72\n",
       "release_year               56\n",
       "budget_adj               2614\n",
       "revenue_adj              4840\n",
       "dtype: int64"
      ]
     },
     "execution_count": 7,
     "metadata": {},
     "output_type": "execute_result"
    }
   ],
   "source": [
    "#number of unique values for each column \n",
    "df.nunique()"
   ]
  },
  {
   "cell_type": "markdown",
   "metadata": {},
   "source": [
    ">Since our question in on genre, director and vote_average impact on revenue of the release_year we should focus on these columns. From the above result we can see that there are 2039 genres (combination of genres), 5067 directors, 72 vote_average unique values, 4840 revenue_adj values, and 56 release years we have to consider. "
   ]
  },
  {
   "cell_type": "code",
   "execution_count": 8,
   "metadata": {},
   "outputs": [
    {
     "data": {
      "text/plain": [
       "1"
      ]
     },
     "execution_count": 8,
     "metadata": {},
     "output_type": "execute_result"
    }
   ],
   "source": [
    "#number of duplicated entries \n",
    "sum(df.duplicated())"
   ]
  },
  {
   "cell_type": "markdown",
   "metadata": {},
   "source": [
    ">There is only one row which is duplicated, which we need to drop."
   ]
  },
  {
   "cell_type": "markdown",
   "metadata": {},
   "source": [
    "\n",
    "### Data Cleaning\n",
    "\n",
    " "
   ]
  },
  {
   "cell_type": "markdown",
   "metadata": {},
   "source": [
    "1. For the analysis we need only need the 'id', 'orginal_title', 'director', 'genres', 'vote_average', 'release_year', and 'revenue_adj' columns. we need to trim the others. the new number of columns should be 7. \n",
    "2. remove the duplicated entry\n",
    "3. remove the 0 values in revenue_adj \n",
    "we are going to use revenue_adj column instead of revenue column beacuse it accounts for inflation over time. "
   ]
  },
  {
   "cell_type": "code",
   "execution_count": 9,
   "metadata": {},
   "outputs": [
    {
     "data": {
      "text/html": [
       "<div>\n",
       "<style scoped>\n",
       "    .dataframe tbody tr th:only-of-type {\n",
       "        vertical-align: middle;\n",
       "    }\n",
       "\n",
       "    .dataframe tbody tr th {\n",
       "        vertical-align: top;\n",
       "    }\n",
       "\n",
       "    .dataframe thead th {\n",
       "        text-align: right;\n",
       "    }\n",
       "</style>\n",
       "<table border=\"1\" class=\"dataframe\">\n",
       "  <thead>\n",
       "    <tr style=\"text-align: right;\">\n",
       "      <th></th>\n",
       "      <th>id</th>\n",
       "      <th>original_title</th>\n",
       "      <th>director</th>\n",
       "      <th>genres</th>\n",
       "      <th>vote_average</th>\n",
       "      <th>release_year</th>\n",
       "      <th>revenue_adj</th>\n",
       "    </tr>\n",
       "  </thead>\n",
       "  <tbody>\n",
       "    <tr>\n",
       "      <th>0</th>\n",
       "      <td>135397</td>\n",
       "      <td>Jurassic World</td>\n",
       "      <td>Colin Trevorrow</td>\n",
       "      <td>Action|Adventure|Science Fiction|Thriller</td>\n",
       "      <td>6.5</td>\n",
       "      <td>2015</td>\n",
       "      <td>1.392446e+09</td>\n",
       "    </tr>\n",
       "    <tr>\n",
       "      <th>1</th>\n",
       "      <td>76341</td>\n",
       "      <td>Mad Max: Fury Road</td>\n",
       "      <td>George Miller</td>\n",
       "      <td>Action|Adventure|Science Fiction|Thriller</td>\n",
       "      <td>7.1</td>\n",
       "      <td>2015</td>\n",
       "      <td>3.481613e+08</td>\n",
       "    </tr>\n",
       "    <tr>\n",
       "      <th>2</th>\n",
       "      <td>262500</td>\n",
       "      <td>Insurgent</td>\n",
       "      <td>Robert Schwentke</td>\n",
       "      <td>Adventure|Science Fiction|Thriller</td>\n",
       "      <td>6.3</td>\n",
       "      <td>2015</td>\n",
       "      <td>2.716190e+08</td>\n",
       "    </tr>\n",
       "    <tr>\n",
       "      <th>3</th>\n",
       "      <td>140607</td>\n",
       "      <td>Star Wars: The Force Awakens</td>\n",
       "      <td>J.J. Abrams</td>\n",
       "      <td>Action|Adventure|Science Fiction|Fantasy</td>\n",
       "      <td>7.5</td>\n",
       "      <td>2015</td>\n",
       "      <td>1.902723e+09</td>\n",
       "    </tr>\n",
       "    <tr>\n",
       "      <th>4</th>\n",
       "      <td>168259</td>\n",
       "      <td>Furious 7</td>\n",
       "      <td>James Wan</td>\n",
       "      <td>Action|Crime|Thriller</td>\n",
       "      <td>7.3</td>\n",
       "      <td>2015</td>\n",
       "      <td>1.385749e+09</td>\n",
       "    </tr>\n",
       "  </tbody>\n",
       "</table>\n",
       "</div>"
      ],
      "text/plain": [
       "       id                original_title          director  \\\n",
       "0  135397                Jurassic World   Colin Trevorrow   \n",
       "1   76341            Mad Max: Fury Road     George Miller   \n",
       "2  262500                     Insurgent  Robert Schwentke   \n",
       "3  140607  Star Wars: The Force Awakens       J.J. Abrams   \n",
       "4  168259                     Furious 7         James Wan   \n",
       "\n",
       "                                      genres  vote_average  release_year  \\\n",
       "0  Action|Adventure|Science Fiction|Thriller           6.5          2015   \n",
       "1  Action|Adventure|Science Fiction|Thriller           7.1          2015   \n",
       "2         Adventure|Science Fiction|Thriller           6.3          2015   \n",
       "3   Action|Adventure|Science Fiction|Fantasy           7.5          2015   \n",
       "4                      Action|Crime|Thriller           7.3          2015   \n",
       "\n",
       "    revenue_adj  \n",
       "0  1.392446e+09  \n",
       "1  3.481613e+08  \n",
       "2  2.716190e+08  \n",
       "3  1.902723e+09  \n",
       "4  1.385749e+09  "
      ]
     },
     "execution_count": 9,
     "metadata": {},
     "output_type": "execute_result"
    }
   ],
   "source": [
    "#trim the data by droping the columns that are not significant for the analysis \n",
    "\n",
    "ns_columns= ['imdb_id','popularity', 'budget','revenue', 'cast', 'homepage', 'tagline', 'keywords', \n",
    "             'overview', 'runtime', 'production_companies', 'release_date','vote_count','budget_adj']\n",
    "new_df=df.drop(labels=ns_columns,axis=1)\n",
    "\n",
    "new_df.head()\n"
   ]
  },
  {
   "cell_type": "code",
   "execution_count": 10,
   "metadata": {},
   "outputs": [
    {
     "data": {
      "text/plain": [
       "(10866, 7)"
      ]
     },
     "execution_count": 10,
     "metadata": {},
     "output_type": "execute_result"
    }
   ],
   "source": [
    "new_df.shape"
   ]
  },
  {
   "cell_type": "code",
   "execution_count": 11,
   "metadata": {},
   "outputs": [
    {
     "data": {
      "text/plain": [
       "(10865, 7)"
      ]
     },
     "execution_count": 11,
     "metadata": {},
     "output_type": "execute_result"
    }
   ],
   "source": [
    "#drop duplicated entries\n",
    "new_df.drop_duplicates(inplace=True)\n",
    "new_df.shape"
   ]
  },
  {
   "cell_type": "markdown",
   "metadata": {},
   "source": [
    ">we can see the duplicate has been removed by comparing the number of row "
   ]
  },
  {
   "cell_type": "code",
   "execution_count": 12,
   "metadata": {},
   "outputs": [
    {
     "data": {
      "text/html": [
       "<div>\n",
       "<style scoped>\n",
       "    .dataframe tbody tr th:only-of-type {\n",
       "        vertical-align: middle;\n",
       "    }\n",
       "\n",
       "    .dataframe tbody tr th {\n",
       "        vertical-align: top;\n",
       "    }\n",
       "\n",
       "    .dataframe thead th {\n",
       "        text-align: right;\n",
       "    }\n",
       "</style>\n",
       "<table border=\"1\" class=\"dataframe\">\n",
       "  <thead>\n",
       "    <tr style=\"text-align: right;\">\n",
       "      <th></th>\n",
       "      <th>id</th>\n",
       "      <th>vote_average</th>\n",
       "      <th>release_year</th>\n",
       "      <th>revenue_adj</th>\n",
       "    </tr>\n",
       "  </thead>\n",
       "  <tbody>\n",
       "    <tr>\n",
       "      <th>count</th>\n",
       "      <td>4849.000000</td>\n",
       "      <td>4849.000000</td>\n",
       "      <td>4849.000000</td>\n",
       "      <td>4.849000e+03</td>\n",
       "    </tr>\n",
       "    <tr>\n",
       "      <th>mean</th>\n",
       "      <td>44575.491648</td>\n",
       "      <td>6.149000</td>\n",
       "      <td>2000.919777</td>\n",
       "      <td>1.151009e+08</td>\n",
       "    </tr>\n",
       "    <tr>\n",
       "      <th>std</th>\n",
       "      <td>72368.860461</td>\n",
       "      <td>0.798707</td>\n",
       "      <td>11.569650</td>\n",
       "      <td>1.988557e+08</td>\n",
       "    </tr>\n",
       "    <tr>\n",
       "      <th>min</th>\n",
       "      <td>5.000000</td>\n",
       "      <td>2.100000</td>\n",
       "      <td>1960.000000</td>\n",
       "      <td>2.370705e+00</td>\n",
       "    </tr>\n",
       "    <tr>\n",
       "      <th>25%</th>\n",
       "      <td>8285.000000</td>\n",
       "      <td>5.600000</td>\n",
       "      <td>1994.000000</td>\n",
       "      <td>1.046585e+07</td>\n",
       "    </tr>\n",
       "    <tr>\n",
       "      <th>50%</th>\n",
       "      <td>12154.000000</td>\n",
       "      <td>6.200000</td>\n",
       "      <td>2004.000000</td>\n",
       "      <td>4.395666e+07</td>\n",
       "    </tr>\n",
       "    <tr>\n",
       "      <th>75%</th>\n",
       "      <td>43959.000000</td>\n",
       "      <td>6.700000</td>\n",
       "      <td>2010.000000</td>\n",
       "      <td>1.316482e+08</td>\n",
       "    </tr>\n",
       "    <tr>\n",
       "      <th>max</th>\n",
       "      <td>417859.000000</td>\n",
       "      <td>8.400000</td>\n",
       "      <td>2015.000000</td>\n",
       "      <td>2.827124e+09</td>\n",
       "    </tr>\n",
       "  </tbody>\n",
       "</table>\n",
       "</div>"
      ],
      "text/plain": [
       "                  id  vote_average  release_year   revenue_adj\n",
       "count    4849.000000   4849.000000   4849.000000  4.849000e+03\n",
       "mean    44575.491648      6.149000   2000.919777  1.151009e+08\n",
       "std     72368.860461      0.798707     11.569650  1.988557e+08\n",
       "min         5.000000      2.100000   1960.000000  2.370705e+00\n",
       "25%      8285.000000      5.600000   1994.000000  1.046585e+07\n",
       "50%     12154.000000      6.200000   2004.000000  4.395666e+07\n",
       "75%     43959.000000      6.700000   2010.000000  1.316482e+08\n",
       "max    417859.000000      8.400000   2015.000000  2.827124e+09"
      ]
     },
     "execution_count": 12,
     "metadata": {},
     "output_type": "execute_result"
    }
   ],
   "source": [
    "#remove 0 values in revenue_adj\n",
    "new_df=new_df[new_df['revenue_adj']!=0]\n",
    "\n",
    "new_df.describe()"
   ]
  },
  {
   "cell_type": "markdown",
   "metadata": {},
   "source": [
    ">let's create a data frame which contains the data of the top revenue of the release year "
   ]
  },
  {
   "cell_type": "code",
   "execution_count": 13,
   "metadata": {},
   "outputs": [],
   "source": [
    "#extract the release_year and revenue_adj columns \n",
    "yearly_revenue=new_df[['release_year','revenue_adj']]"
   ]
  },
  {
   "cell_type": "code",
   "execution_count": 14,
   "metadata": {},
   "outputs": [],
   "source": [
    "# Group the data by year and compute the index of the row with the maximum revenue for each year using idxmax() function\n",
    "idx=yearly_revenue.groupby('release_year').idxmax()"
   ]
  },
  {
   "cell_type": "code",
   "execution_count": 15,
   "metadata": {},
   "outputs": [],
   "source": [
    "# Use the index to select the rows with the maximum revenue for each year from the original DataFrame\n",
    "top_movies=new_df.loc[idx['revenue_adj']]"
   ]
  },
  {
   "cell_type": "code",
   "execution_count": 16,
   "metadata": {},
   "outputs": [
    {
     "data": {
      "text/html": [
       "<div>\n",
       "<style scoped>\n",
       "    .dataframe tbody tr th:only-of-type {\n",
       "        vertical-align: middle;\n",
       "    }\n",
       "\n",
       "    .dataframe tbody tr th {\n",
       "        vertical-align: top;\n",
       "    }\n",
       "\n",
       "    .dataframe thead th {\n",
       "        text-align: right;\n",
       "    }\n",
       "</style>\n",
       "<table border=\"1\" class=\"dataframe\">\n",
       "  <thead>\n",
       "    <tr style=\"text-align: right;\">\n",
       "      <th></th>\n",
       "      <th>id</th>\n",
       "      <th>original_title</th>\n",
       "      <th>director</th>\n",
       "      <th>genres</th>\n",
       "      <th>vote_average</th>\n",
       "      <th>release_year</th>\n",
       "      <th>revenue_adj</th>\n",
       "    </tr>\n",
       "  </thead>\n",
       "  <tbody>\n",
       "    <tr>\n",
       "      <th>10143</th>\n",
       "      <td>967</td>\n",
       "      <td>Spartacus</td>\n",
       "      <td>Stanley Kubrick</td>\n",
       "      <td>Action|Drama|History</td>\n",
       "      <td>6.9</td>\n",
       "      <td>1960</td>\n",
       "      <td>4.423780e+08</td>\n",
       "    </tr>\n",
       "    <tr>\n",
       "      <th>10110</th>\n",
       "      <td>12230</td>\n",
       "      <td>One Hundred and One Dalmatians</td>\n",
       "      <td>Clyde Geronimi|Hamilton Luske|Wolfgang Reitherman</td>\n",
       "      <td>Adventure|Animation|Comedy|Family</td>\n",
       "      <td>6.6</td>\n",
       "      <td>1961</td>\n",
       "      <td>1.574815e+09</td>\n",
       "    </tr>\n",
       "    <tr>\n",
       "      <th>9850</th>\n",
       "      <td>947</td>\n",
       "      <td>Lawrence of Arabia</td>\n",
       "      <td>David Lean</td>\n",
       "      <td>Adventure|Drama|History|War</td>\n",
       "      <td>7.5</td>\n",
       "      <td>1962</td>\n",
       "      <td>5.045914e+08</td>\n",
       "    </tr>\n",
       "    <tr>\n",
       "      <th>10438</th>\n",
       "      <td>657</td>\n",
       "      <td>From Russia With Love</td>\n",
       "      <td>Terence Young</td>\n",
       "      <td>Action|Thriller|Adventure</td>\n",
       "      <td>6.7</td>\n",
       "      <td>1963</td>\n",
       "      <td>5.617734e+08</td>\n",
       "    </tr>\n",
       "    <tr>\n",
       "      <th>9881</th>\n",
       "      <td>658</td>\n",
       "      <td>Goldfinger</td>\n",
       "      <td>Guy Hamilton</td>\n",
       "      <td>Adventure|Action|Thriller</td>\n",
       "      <td>7.0</td>\n",
       "      <td>1964</td>\n",
       "      <td>8.780804e+08</td>\n",
       "    </tr>\n",
       "  </tbody>\n",
       "</table>\n",
       "</div>"
      ],
      "text/plain": [
       "          id                  original_title  \\\n",
       "10143    967                       Spartacus   \n",
       "10110  12230  One Hundred and One Dalmatians   \n",
       "9850     947              Lawrence of Arabia   \n",
       "10438    657           From Russia With Love   \n",
       "9881     658                      Goldfinger   \n",
       "\n",
       "                                                director  \\\n",
       "10143                                    Stanley Kubrick   \n",
       "10110  Clyde Geronimi|Hamilton Luske|Wolfgang Reitherman   \n",
       "9850                                          David Lean   \n",
       "10438                                      Terence Young   \n",
       "9881                                        Guy Hamilton   \n",
       "\n",
       "                                  genres  vote_average  release_year  \\\n",
       "10143               Action|Drama|History           6.9          1960   \n",
       "10110  Adventure|Animation|Comedy|Family           6.6          1961   \n",
       "9850         Adventure|Drama|History|War           7.5          1962   \n",
       "10438          Action|Thriller|Adventure           6.7          1963   \n",
       "9881           Adventure|Action|Thriller           7.0          1964   \n",
       "\n",
       "        revenue_adj  \n",
       "10143  4.423780e+08  \n",
       "10110  1.574815e+09  \n",
       "9850   5.045914e+08  \n",
       "10438  5.617734e+08  \n",
       "9881   8.780804e+08  "
      ]
     },
     "execution_count": 16,
     "metadata": {},
     "output_type": "execute_result"
    }
   ],
   "source": [
    "top_movies.head()"
   ]
  },
  {
   "cell_type": "code",
   "execution_count": 17,
   "metadata": {},
   "outputs": [
    {
     "data": {
      "text/plain": [
       "(56, 7)"
      ]
     },
     "execution_count": 17,
     "metadata": {},
     "output_type": "execute_result"
    }
   ],
   "source": [
    "top_movies.shape"
   ]
  },
  {
   "cell_type": "markdown",
   "metadata": {},
   "source": [
    "one movie for each release_year with the top revenue from 1960-2015 a total of 56 years "
   ]
  },
  {
   "cell_type": "markdown",
   "metadata": {},
   "source": [
    "<a id='eda'></a>\n",
    "## Exploratory Data Analysis\n",
    "\n",
    "\n",
    "\n",
    "\n",
    "### Research Question 1 Which genre is the most associated with the top movie of the release year by revenue?"
   ]
  },
  {
   "cell_type": "markdown",
   "metadata": {},
   "source": [
    "Since there are mulitple genres in one movie separated by '|' , we need to split the genres and turn every genre element into a row using explode() function "
   ]
  },
  {
   "cell_type": "code",
   "execution_count": 18,
   "metadata": {},
   "outputs": [
    {
     "data": {
      "text/html": [
       "<div>\n",
       "<style scoped>\n",
       "    .dataframe tbody tr th:only-of-type {\n",
       "        vertical-align: middle;\n",
       "    }\n",
       "\n",
       "    .dataframe tbody tr th {\n",
       "        vertical-align: top;\n",
       "    }\n",
       "\n",
       "    .dataframe thead th {\n",
       "        text-align: right;\n",
       "    }\n",
       "</style>\n",
       "<table border=\"1\" class=\"dataframe\">\n",
       "  <thead>\n",
       "    <tr style=\"text-align: right;\">\n",
       "      <th></th>\n",
       "      <th>id</th>\n",
       "      <th>original_title</th>\n",
       "      <th>director</th>\n",
       "      <th>genres</th>\n",
       "      <th>vote_average</th>\n",
       "      <th>release_year</th>\n",
       "      <th>revenue_adj</th>\n",
       "    </tr>\n",
       "  </thead>\n",
       "  <tbody>\n",
       "    <tr>\n",
       "      <th>10143</th>\n",
       "      <td>967</td>\n",
       "      <td>Spartacus</td>\n",
       "      <td>Stanley Kubrick</td>\n",
       "      <td>Action|Drama|History</td>\n",
       "      <td>6.9</td>\n",
       "      <td>1960</td>\n",
       "      <td>4.423780e+08</td>\n",
       "    </tr>\n",
       "    <tr>\n",
       "      <th>10110</th>\n",
       "      <td>12230</td>\n",
       "      <td>One Hundred and One Dalmatians</td>\n",
       "      <td>Clyde Geronimi|Hamilton Luske|Wolfgang Reitherman</td>\n",
       "      <td>Adventure|Animation|Comedy|Family</td>\n",
       "      <td>6.6</td>\n",
       "      <td>1961</td>\n",
       "      <td>1.574815e+09</td>\n",
       "    </tr>\n",
       "    <tr>\n",
       "      <th>9850</th>\n",
       "      <td>947</td>\n",
       "      <td>Lawrence of Arabia</td>\n",
       "      <td>David Lean</td>\n",
       "      <td>Adventure|Drama|History|War</td>\n",
       "      <td>7.5</td>\n",
       "      <td>1962</td>\n",
       "      <td>5.045914e+08</td>\n",
       "    </tr>\n",
       "    <tr>\n",
       "      <th>10438</th>\n",
       "      <td>657</td>\n",
       "      <td>From Russia With Love</td>\n",
       "      <td>Terence Young</td>\n",
       "      <td>Action|Thriller|Adventure</td>\n",
       "      <td>6.7</td>\n",
       "      <td>1963</td>\n",
       "      <td>5.617734e+08</td>\n",
       "    </tr>\n",
       "    <tr>\n",
       "      <th>9881</th>\n",
       "      <td>658</td>\n",
       "      <td>Goldfinger</td>\n",
       "      <td>Guy Hamilton</td>\n",
       "      <td>Adventure|Action|Thriller</td>\n",
       "      <td>7.0</td>\n",
       "      <td>1964</td>\n",
       "      <td>8.780804e+08</td>\n",
       "    </tr>\n",
       "  </tbody>\n",
       "</table>\n",
       "</div>"
      ],
      "text/plain": [
       "          id                  original_title  \\\n",
       "10143    967                       Spartacus   \n",
       "10110  12230  One Hundred and One Dalmatians   \n",
       "9850     947              Lawrence of Arabia   \n",
       "10438    657           From Russia With Love   \n",
       "9881     658                      Goldfinger   \n",
       "\n",
       "                                                director  \\\n",
       "10143                                    Stanley Kubrick   \n",
       "10110  Clyde Geronimi|Hamilton Luske|Wolfgang Reitherman   \n",
       "9850                                          David Lean   \n",
       "10438                                      Terence Young   \n",
       "9881                                        Guy Hamilton   \n",
       "\n",
       "                                  genres  vote_average  release_year  \\\n",
       "10143               Action|Drama|History           6.9          1960   \n",
       "10110  Adventure|Animation|Comedy|Family           6.6          1961   \n",
       "9850         Adventure|Drama|History|War           7.5          1962   \n",
       "10438          Action|Thriller|Adventure           6.7          1963   \n",
       "9881           Adventure|Action|Thriller           7.0          1964   \n",
       "\n",
       "        revenue_adj  \n",
       "10143  4.423780e+08  \n",
       "10110  1.574815e+09  \n",
       "9850   5.045914e+08  \n",
       "10438  5.617734e+08  \n",
       "9881   8.780804e+08  "
      ]
     },
     "execution_count": 18,
     "metadata": {},
     "output_type": "execute_result"
    }
   ],
   "source": [
    "#first lets make a copy of the dataframe top_movies\n",
    "top_movies_genres=top_movies.copy()\n",
    "top_movies_genres.head()"
   ]
  },
  {
   "cell_type": "code",
   "execution_count": 19,
   "metadata": {},
   "outputs": [
    {
     "data": {
      "text/html": [
       "<div>\n",
       "<style scoped>\n",
       "    .dataframe tbody tr th:only-of-type {\n",
       "        vertical-align: middle;\n",
       "    }\n",
       "\n",
       "    .dataframe tbody tr th {\n",
       "        vertical-align: top;\n",
       "    }\n",
       "\n",
       "    .dataframe thead th {\n",
       "        text-align: right;\n",
       "    }\n",
       "</style>\n",
       "<table border=\"1\" class=\"dataframe\">\n",
       "  <thead>\n",
       "    <tr style=\"text-align: right;\">\n",
       "      <th></th>\n",
       "      <th>id</th>\n",
       "      <th>original_title</th>\n",
       "      <th>director</th>\n",
       "      <th>genres</th>\n",
       "      <th>vote_average</th>\n",
       "      <th>release_year</th>\n",
       "      <th>revenue_adj</th>\n",
       "    </tr>\n",
       "  </thead>\n",
       "  <tbody>\n",
       "    <tr>\n",
       "      <th>10143</th>\n",
       "      <td>967</td>\n",
       "      <td>Spartacus</td>\n",
       "      <td>Stanley Kubrick</td>\n",
       "      <td>[Action, Drama, History]</td>\n",
       "      <td>6.9</td>\n",
       "      <td>1960</td>\n",
       "      <td>4.423780e+08</td>\n",
       "    </tr>\n",
       "    <tr>\n",
       "      <th>10110</th>\n",
       "      <td>12230</td>\n",
       "      <td>One Hundred and One Dalmatians</td>\n",
       "      <td>Clyde Geronimi|Hamilton Luske|Wolfgang Reitherman</td>\n",
       "      <td>[Adventure, Animation, Comedy, Family]</td>\n",
       "      <td>6.6</td>\n",
       "      <td>1961</td>\n",
       "      <td>1.574815e+09</td>\n",
       "    </tr>\n",
       "    <tr>\n",
       "      <th>9850</th>\n",
       "      <td>947</td>\n",
       "      <td>Lawrence of Arabia</td>\n",
       "      <td>David Lean</td>\n",
       "      <td>[Adventure, Drama, History, War]</td>\n",
       "      <td>7.5</td>\n",
       "      <td>1962</td>\n",
       "      <td>5.045914e+08</td>\n",
       "    </tr>\n",
       "    <tr>\n",
       "      <th>10438</th>\n",
       "      <td>657</td>\n",
       "      <td>From Russia With Love</td>\n",
       "      <td>Terence Young</td>\n",
       "      <td>[Action, Thriller, Adventure]</td>\n",
       "      <td>6.7</td>\n",
       "      <td>1963</td>\n",
       "      <td>5.617734e+08</td>\n",
       "    </tr>\n",
       "    <tr>\n",
       "      <th>9881</th>\n",
       "      <td>658</td>\n",
       "      <td>Goldfinger</td>\n",
       "      <td>Guy Hamilton</td>\n",
       "      <td>[Adventure, Action, Thriller]</td>\n",
       "      <td>7.0</td>\n",
       "      <td>1964</td>\n",
       "      <td>8.780804e+08</td>\n",
       "    </tr>\n",
       "  </tbody>\n",
       "</table>\n",
       "</div>"
      ],
      "text/plain": [
       "          id                  original_title  \\\n",
       "10143    967                       Spartacus   \n",
       "10110  12230  One Hundred and One Dalmatians   \n",
       "9850     947              Lawrence of Arabia   \n",
       "10438    657           From Russia With Love   \n",
       "9881     658                      Goldfinger   \n",
       "\n",
       "                                                director  \\\n",
       "10143                                    Stanley Kubrick   \n",
       "10110  Clyde Geronimi|Hamilton Luske|Wolfgang Reitherman   \n",
       "9850                                          David Lean   \n",
       "10438                                      Terence Young   \n",
       "9881                                        Guy Hamilton   \n",
       "\n",
       "                                       genres  vote_average  release_year  \\\n",
       "10143                [Action, Drama, History]           6.9          1960   \n",
       "10110  [Adventure, Animation, Comedy, Family]           6.6          1961   \n",
       "9850         [Adventure, Drama, History, War]           7.5          1962   \n",
       "10438           [Action, Thriller, Adventure]           6.7          1963   \n",
       "9881            [Adventure, Action, Thriller]           7.0          1964   \n",
       "\n",
       "        revenue_adj  \n",
       "10143  4.423780e+08  \n",
       "10110  1.574815e+09  \n",
       "9850   5.045914e+08  \n",
       "10438  5.617734e+08  \n",
       "9881   8.780804e+08  "
      ]
     },
     "execution_count": 19,
     "metadata": {},
     "output_type": "execute_result"
    }
   ],
   "source": [
    "# split the 'genres' column on '|' and create a list of strings\n",
    "top_movies_genres['genres'] =top_movies_genres['genres'].str.split('|')\n",
    "top_movies_genres.head()"
   ]
  },
  {
   "cell_type": "code",
   "execution_count": 20,
   "metadata": {},
   "outputs": [
    {
     "data": {
      "text/html": [
       "<div>\n",
       "<style scoped>\n",
       "    .dataframe tbody tr th:only-of-type {\n",
       "        vertical-align: middle;\n",
       "    }\n",
       "\n",
       "    .dataframe tbody tr th {\n",
       "        vertical-align: top;\n",
       "    }\n",
       "\n",
       "    .dataframe thead th {\n",
       "        text-align: right;\n",
       "    }\n",
       "</style>\n",
       "<table border=\"1\" class=\"dataframe\">\n",
       "  <thead>\n",
       "    <tr style=\"text-align: right;\">\n",
       "      <th></th>\n",
       "      <th>id</th>\n",
       "      <th>original_title</th>\n",
       "      <th>director</th>\n",
       "      <th>genres</th>\n",
       "      <th>vote_average</th>\n",
       "      <th>release_year</th>\n",
       "      <th>revenue_adj</th>\n",
       "    </tr>\n",
       "  </thead>\n",
       "  <tbody>\n",
       "    <tr>\n",
       "      <th>10143</th>\n",
       "      <td>967</td>\n",
       "      <td>Spartacus</td>\n",
       "      <td>Stanley Kubrick</td>\n",
       "      <td>Action</td>\n",
       "      <td>6.9</td>\n",
       "      <td>1960</td>\n",
       "      <td>4.423780e+08</td>\n",
       "    </tr>\n",
       "    <tr>\n",
       "      <th>10143</th>\n",
       "      <td>967</td>\n",
       "      <td>Spartacus</td>\n",
       "      <td>Stanley Kubrick</td>\n",
       "      <td>Drama</td>\n",
       "      <td>6.9</td>\n",
       "      <td>1960</td>\n",
       "      <td>4.423780e+08</td>\n",
       "    </tr>\n",
       "    <tr>\n",
       "      <th>10143</th>\n",
       "      <td>967</td>\n",
       "      <td>Spartacus</td>\n",
       "      <td>Stanley Kubrick</td>\n",
       "      <td>History</td>\n",
       "      <td>6.9</td>\n",
       "      <td>1960</td>\n",
       "      <td>4.423780e+08</td>\n",
       "    </tr>\n",
       "    <tr>\n",
       "      <th>10110</th>\n",
       "      <td>12230</td>\n",
       "      <td>One Hundred and One Dalmatians</td>\n",
       "      <td>Clyde Geronimi|Hamilton Luske|Wolfgang Reitherman</td>\n",
       "      <td>Adventure</td>\n",
       "      <td>6.6</td>\n",
       "      <td>1961</td>\n",
       "      <td>1.574815e+09</td>\n",
       "    </tr>\n",
       "    <tr>\n",
       "      <th>10110</th>\n",
       "      <td>12230</td>\n",
       "      <td>One Hundred and One Dalmatians</td>\n",
       "      <td>Clyde Geronimi|Hamilton Luske|Wolfgang Reitherman</td>\n",
       "      <td>Animation</td>\n",
       "      <td>6.6</td>\n",
       "      <td>1961</td>\n",
       "      <td>1.574815e+09</td>\n",
       "    </tr>\n",
       "  </tbody>\n",
       "</table>\n",
       "</div>"
      ],
      "text/plain": [
       "          id                  original_title  \\\n",
       "10143    967                       Spartacus   \n",
       "10143    967                       Spartacus   \n",
       "10143    967                       Spartacus   \n",
       "10110  12230  One Hundred and One Dalmatians   \n",
       "10110  12230  One Hundred and One Dalmatians   \n",
       "\n",
       "                                                director     genres  \\\n",
       "10143                                    Stanley Kubrick     Action   \n",
       "10143                                    Stanley Kubrick      Drama   \n",
       "10143                                    Stanley Kubrick    History   \n",
       "10110  Clyde Geronimi|Hamilton Luske|Wolfgang Reitherman  Adventure   \n",
       "10110  Clyde Geronimi|Hamilton Luske|Wolfgang Reitherman  Animation   \n",
       "\n",
       "       vote_average  release_year   revenue_adj  \n",
       "10143           6.9          1960  4.423780e+08  \n",
       "10143           6.9          1960  4.423780e+08  \n",
       "10143           6.9          1960  4.423780e+08  \n",
       "10110           6.6          1961  1.574815e+09  \n",
       "10110           6.6          1961  1.574815e+09  "
      ]
     },
     "execution_count": 20,
     "metadata": {},
     "output_type": "execute_result"
    }
   ],
   "source": [
    "# explode the 'genres' column\n",
    "new_top_movies_genres = top_movies_genres.explode('genres')\n",
    "new_top_movies_genres.head()"
   ]
  },
  {
   "cell_type": "code",
   "execution_count": 21,
   "metadata": {},
   "outputs": [
    {
     "data": {
      "text/plain": [
       "genres\n",
       "Adventure          37\n",
       "Action             27\n",
       "Drama              17\n",
       "Science Fiction    17\n",
       "Fantasy            15\n",
       "Thriller           14\n",
       "Family             13\n",
       "Romance             7\n",
       "Animation           7\n",
       "Comedy              6\n",
       "Crime               4\n",
       "History             3\n",
       "Mystery             3\n",
       "Horror              3\n",
       "Music               2\n",
       "Western             2\n",
       "War                 1\n",
       "dtype: int64"
      ]
     },
     "execution_count": 21,
     "metadata": {},
     "output_type": "execute_result"
    }
   ],
   "source": [
    "#lets see how many times a certain genre has been used in top movie of the release year interms of revenue \n",
    "new_top_movies_genres.value_counts('genres')"
   ]
  },
  {
   "cell_type": "markdown",
   "metadata": {},
   "source": [
    ">let's create a visualization for these values using matplotlib bar graph\n"
   ]
  },
  {
   "cell_type": "code",
   "execution_count": 22,
   "metadata": {},
   "outputs": [
    {
     "data": {
      "image/png": "[encoded data removed]",
      "text/plain": [
       "<Figure size 864x432 with 1 Axes>"
      ]
     },
     "metadata": {
      "needs_background": "light"
     },
     "output_type": "display_data"
    }
   ],
   "source": [
    "\n",
    "# get the value counts of the 'genres' column\n",
    "value_counts = new_top_movies_genres['genres'].value_counts()\n",
    "\n",
    "# get the labels for the x-axis (the unique values in the 'genres' column)\n",
    "labels = value_counts.index\n",
    "\n",
    "# get the values for the y-axis (the counts for each unique value)\n",
    "values = value_counts.values\n",
    "\n",
    "# Set the figure size\n",
    "plt.figure(figsize=(12, 6))\n",
    "\n",
    "# create the bar graph\n",
    "plt.bar(labels, values)\n",
    "\n",
    "# Set the x-axis and y-axis labels\n",
    "plt.xlabel('Genres')\n",
    "plt.ylabel('Number of movies')\n",
    "\n",
    "# Set the title\n",
    "plt.title('Number of top revenue movies by genre')\n",
    "\n",
    "#rotate the labels 90 degree to make them visible \n",
    "plt.xticks(rotation=90)\n",
    "\n",
    "# show the plot\n",
    "plt.show()"
   ]
  },
  {
   "cell_type": "markdown",
   "metadata": {},
   "source": [
    ">Adventure is the most associated genre with movies that are top revenue earner of the release year. Adventure genre is associated with 37 of the movies out of 56 top movies of each year from 1960-2015.  "
   ]
  },
  {
   "cell_type": "markdown",
   "metadata": {},
   "source": [
    "### Research Question 2  Which Director has the most movies which are the top movie of the release year by revenue?"
   ]
  },
  {
   "cell_type": "code",
   "execution_count": 23,
   "metadata": {},
   "outputs": [
    {
     "data": {
      "text/html": [
       "<div>\n",
       "<style scoped>\n",
       "    .dataframe tbody tr th:only-of-type {\n",
       "        vertical-align: middle;\n",
       "    }\n",
       "\n",
       "    .dataframe tbody tr th {\n",
       "        vertical-align: top;\n",
       "    }\n",
       "\n",
       "    .dataframe thead th {\n",
       "        text-align: right;\n",
       "    }\n",
       "</style>\n",
       "<table border=\"1\" class=\"dataframe\">\n",
       "  <thead>\n",
       "    <tr style=\"text-align: right;\">\n",
       "      <th></th>\n",
       "      <th>id</th>\n",
       "      <th>original_title</th>\n",
       "      <th>director</th>\n",
       "      <th>genres</th>\n",
       "      <th>vote_average</th>\n",
       "      <th>release_year</th>\n",
       "      <th>revenue_adj</th>\n",
       "    </tr>\n",
       "  </thead>\n",
       "  <tbody>\n",
       "    <tr>\n",
       "      <th>10143</th>\n",
       "      <td>967</td>\n",
       "      <td>Spartacus</td>\n",
       "      <td>Stanley Kubrick</td>\n",
       "      <td>Action|Drama|History</td>\n",
       "      <td>6.9</td>\n",
       "      <td>1960</td>\n",
       "      <td>4.423780e+08</td>\n",
       "    </tr>\n",
       "    <tr>\n",
       "      <th>10110</th>\n",
       "      <td>12230</td>\n",
       "      <td>One Hundred and One Dalmatians</td>\n",
       "      <td>Clyde Geronimi|Hamilton Luske|Wolfgang Reitherman</td>\n",
       "      <td>Adventure|Animation|Comedy|Family</td>\n",
       "      <td>6.6</td>\n",
       "      <td>1961</td>\n",
       "      <td>1.574815e+09</td>\n",
       "    </tr>\n",
       "    <tr>\n",
       "      <th>9850</th>\n",
       "      <td>947</td>\n",
       "      <td>Lawrence of Arabia</td>\n",
       "      <td>David Lean</td>\n",
       "      <td>Adventure|Drama|History|War</td>\n",
       "      <td>7.5</td>\n",
       "      <td>1962</td>\n",
       "      <td>5.045914e+08</td>\n",
       "    </tr>\n",
       "    <tr>\n",
       "      <th>10438</th>\n",
       "      <td>657</td>\n",
       "      <td>From Russia With Love</td>\n",
       "      <td>Terence Young</td>\n",
       "      <td>Action|Thriller|Adventure</td>\n",
       "      <td>6.7</td>\n",
       "      <td>1963</td>\n",
       "      <td>5.617734e+08</td>\n",
       "    </tr>\n",
       "    <tr>\n",
       "      <th>9881</th>\n",
       "      <td>658</td>\n",
       "      <td>Goldfinger</td>\n",
       "      <td>Guy Hamilton</td>\n",
       "      <td>Adventure|Action|Thriller</td>\n",
       "      <td>7.0</td>\n",
       "      <td>1964</td>\n",
       "      <td>8.780804e+08</td>\n",
       "    </tr>\n",
       "  </tbody>\n",
       "</table>\n",
       "</div>"
      ],
      "text/plain": [
       "          id                  original_title  \\\n",
       "10143    967                       Spartacus   \n",
       "10110  12230  One Hundred and One Dalmatians   \n",
       "9850     947              Lawrence of Arabia   \n",
       "10438    657           From Russia With Love   \n",
       "9881     658                      Goldfinger   \n",
       "\n",
       "                                                director  \\\n",
       "10143                                    Stanley Kubrick   \n",
       "10110  Clyde Geronimi|Hamilton Luske|Wolfgang Reitherman   \n",
       "9850                                          David Lean   \n",
       "10438                                      Terence Young   \n",
       "9881                                        Guy Hamilton   \n",
       "\n",
       "                                  genres  vote_average  release_year  \\\n",
       "10143               Action|Drama|History           6.9          1960   \n",
       "10110  Adventure|Animation|Comedy|Family           6.6          1961   \n",
       "9850         Adventure|Drama|History|War           7.5          1962   \n",
       "10438          Action|Thriller|Adventure           6.7          1963   \n",
       "9881           Adventure|Action|Thriller           7.0          1964   \n",
       "\n",
       "        revenue_adj  \n",
       "10143  4.423780e+08  \n",
       "10110  1.574815e+09  \n",
       "9850   5.045914e+08  \n",
       "10438  5.617734e+08  \n",
       "9881   8.780804e+08  "
      ]
     },
     "execution_count": 23,
     "metadata": {},
     "output_type": "execute_result"
    }
   ],
   "source": [
    "#similarly first lets make a copy of the dataframe top_movies\n",
    "top_movies_director=top_movies.copy()\n",
    "top_movies_director.head()"
   ]
  },
  {
   "cell_type": "code",
   "execution_count": 24,
   "metadata": {},
   "outputs": [
    {
     "data": {
      "text/plain": [
       "(56, 7)"
      ]
     },
     "execution_count": 24,
     "metadata": {},
     "output_type": "execute_result"
    }
   ],
   "source": [
    "top_movies_director.shape"
   ]
  },
  {
   "cell_type": "code",
   "execution_count": 25,
   "metadata": {},
   "outputs": [
    {
     "data": {
      "text/html": [
       "<div>\n",
       "<style scoped>\n",
       "    .dataframe tbody tr th:only-of-type {\n",
       "        vertical-align: middle;\n",
       "    }\n",
       "\n",
       "    .dataframe tbody tr th {\n",
       "        vertical-align: top;\n",
       "    }\n",
       "\n",
       "    .dataframe thead th {\n",
       "        text-align: right;\n",
       "    }\n",
       "</style>\n",
       "<table border=\"1\" class=\"dataframe\">\n",
       "  <thead>\n",
       "    <tr style=\"text-align: right;\">\n",
       "      <th></th>\n",
       "      <th>id</th>\n",
       "      <th>original_title</th>\n",
       "      <th>director</th>\n",
       "      <th>genres</th>\n",
       "      <th>vote_average</th>\n",
       "      <th>release_year</th>\n",
       "      <th>revenue_adj</th>\n",
       "    </tr>\n",
       "  </thead>\n",
       "  <tbody>\n",
       "    <tr>\n",
       "      <th>10143</th>\n",
       "      <td>967</td>\n",
       "      <td>Spartacus</td>\n",
       "      <td>[Stanley Kubrick]</td>\n",
       "      <td>Action|Drama|History</td>\n",
       "      <td>6.9</td>\n",
       "      <td>1960</td>\n",
       "      <td>4.423780e+08</td>\n",
       "    </tr>\n",
       "    <tr>\n",
       "      <th>10110</th>\n",
       "      <td>12230</td>\n",
       "      <td>One Hundred and One Dalmatians</td>\n",
       "      <td>[Clyde Geronimi, Hamilton Luske, Wolfgang Reit...</td>\n",
       "      <td>Adventure|Animation|Comedy|Family</td>\n",
       "      <td>6.6</td>\n",
       "      <td>1961</td>\n",
       "      <td>1.574815e+09</td>\n",
       "    </tr>\n",
       "    <tr>\n",
       "      <th>9850</th>\n",
       "      <td>947</td>\n",
       "      <td>Lawrence of Arabia</td>\n",
       "      <td>[David Lean]</td>\n",
       "      <td>Adventure|Drama|History|War</td>\n",
       "      <td>7.5</td>\n",
       "      <td>1962</td>\n",
       "      <td>5.045914e+08</td>\n",
       "    </tr>\n",
       "    <tr>\n",
       "      <th>10438</th>\n",
       "      <td>657</td>\n",
       "      <td>From Russia With Love</td>\n",
       "      <td>[Terence Young]</td>\n",
       "      <td>Action|Thriller|Adventure</td>\n",
       "      <td>6.7</td>\n",
       "      <td>1963</td>\n",
       "      <td>5.617734e+08</td>\n",
       "    </tr>\n",
       "    <tr>\n",
       "      <th>9881</th>\n",
       "      <td>658</td>\n",
       "      <td>Goldfinger</td>\n",
       "      <td>[Guy Hamilton]</td>\n",
       "      <td>Adventure|Action|Thriller</td>\n",
       "      <td>7.0</td>\n",
       "      <td>1964</td>\n",
       "      <td>8.780804e+08</td>\n",
       "    </tr>\n",
       "  </tbody>\n",
       "</table>\n",
       "</div>"
      ],
      "text/plain": [
       "          id                  original_title  \\\n",
       "10143    967                       Spartacus   \n",
       "10110  12230  One Hundred and One Dalmatians   \n",
       "9850     947              Lawrence of Arabia   \n",
       "10438    657           From Russia With Love   \n",
       "9881     658                      Goldfinger   \n",
       "\n",
       "                                                director  \\\n",
       "10143                                  [Stanley Kubrick]   \n",
       "10110  [Clyde Geronimi, Hamilton Luske, Wolfgang Reit...   \n",
       "9850                                        [David Lean]   \n",
       "10438                                    [Terence Young]   \n",
       "9881                                      [Guy Hamilton]   \n",
       "\n",
       "                                  genres  vote_average  release_year  \\\n",
       "10143               Action|Drama|History           6.9          1960   \n",
       "10110  Adventure|Animation|Comedy|Family           6.6          1961   \n",
       "9850         Adventure|Drama|History|War           7.5          1962   \n",
       "10438          Action|Thriller|Adventure           6.7          1963   \n",
       "9881           Adventure|Action|Thriller           7.0          1964   \n",
       "\n",
       "        revenue_adj  \n",
       "10143  4.423780e+08  \n",
       "10110  1.574815e+09  \n",
       "9850   5.045914e+08  \n",
       "10438  5.617734e+08  \n",
       "9881   8.780804e+08  "
      ]
     },
     "execution_count": 25,
     "metadata": {},
     "output_type": "execute_result"
    }
   ],
   "source": [
    "# split the director column on '|' and create a list of strings\n",
    "top_movies_director['director'] =top_movies_director['director'].str.split('|')\n",
    "top_movies_director.head()"
   ]
  },
  {
   "cell_type": "code",
   "execution_count": 26,
   "metadata": {},
   "outputs": [
    {
     "data": {
      "text/html": [
       "<div>\n",
       "<style scoped>\n",
       "    .dataframe tbody tr th:only-of-type {\n",
       "        vertical-align: middle;\n",
       "    }\n",
       "\n",
       "    .dataframe tbody tr th {\n",
       "        vertical-align: top;\n",
       "    }\n",
       "\n",
       "    .dataframe thead th {\n",
       "        text-align: right;\n",
       "    }\n",
       "</style>\n",
       "<table border=\"1\" class=\"dataframe\">\n",
       "  <thead>\n",
       "    <tr style=\"text-align: right;\">\n",
       "      <th></th>\n",
       "      <th>id</th>\n",
       "      <th>original_title</th>\n",
       "      <th>director</th>\n",
       "      <th>genres</th>\n",
       "      <th>vote_average</th>\n",
       "      <th>release_year</th>\n",
       "      <th>revenue_adj</th>\n",
       "    </tr>\n",
       "  </thead>\n",
       "  <tbody>\n",
       "    <tr>\n",
       "      <th>10143</th>\n",
       "      <td>967</td>\n",
       "      <td>Spartacus</td>\n",
       "      <td>Stanley Kubrick</td>\n",
       "      <td>Action|Drama|History</td>\n",
       "      <td>6.9</td>\n",
       "      <td>1960</td>\n",
       "      <td>4.423780e+08</td>\n",
       "    </tr>\n",
       "    <tr>\n",
       "      <th>10110</th>\n",
       "      <td>12230</td>\n",
       "      <td>One Hundred and One Dalmatians</td>\n",
       "      <td>Clyde Geronimi</td>\n",
       "      <td>Adventure|Animation|Comedy|Family</td>\n",
       "      <td>6.6</td>\n",
       "      <td>1961</td>\n",
       "      <td>1.574815e+09</td>\n",
       "    </tr>\n",
       "    <tr>\n",
       "      <th>10110</th>\n",
       "      <td>12230</td>\n",
       "      <td>One Hundred and One Dalmatians</td>\n",
       "      <td>Hamilton Luske</td>\n",
       "      <td>Adventure|Animation|Comedy|Family</td>\n",
       "      <td>6.6</td>\n",
       "      <td>1961</td>\n",
       "      <td>1.574815e+09</td>\n",
       "    </tr>\n",
       "    <tr>\n",
       "      <th>10110</th>\n",
       "      <td>12230</td>\n",
       "      <td>One Hundred and One Dalmatians</td>\n",
       "      <td>Wolfgang Reitherman</td>\n",
       "      <td>Adventure|Animation|Comedy|Family</td>\n",
       "      <td>6.6</td>\n",
       "      <td>1961</td>\n",
       "      <td>1.574815e+09</td>\n",
       "    </tr>\n",
       "    <tr>\n",
       "      <th>9850</th>\n",
       "      <td>947</td>\n",
       "      <td>Lawrence of Arabia</td>\n",
       "      <td>David Lean</td>\n",
       "      <td>Adventure|Drama|History|War</td>\n",
       "      <td>7.5</td>\n",
       "      <td>1962</td>\n",
       "      <td>5.045914e+08</td>\n",
       "    </tr>\n",
       "  </tbody>\n",
       "</table>\n",
       "</div>"
      ],
      "text/plain": [
       "          id                  original_title             director  \\\n",
       "10143    967                       Spartacus      Stanley Kubrick   \n",
       "10110  12230  One Hundred and One Dalmatians       Clyde Geronimi   \n",
       "10110  12230  One Hundred and One Dalmatians       Hamilton Luske   \n",
       "10110  12230  One Hundred and One Dalmatians  Wolfgang Reitherman   \n",
       "9850     947              Lawrence of Arabia           David Lean   \n",
       "\n",
       "                                  genres  vote_average  release_year  \\\n",
       "10143               Action|Drama|History           6.9          1960   \n",
       "10110  Adventure|Animation|Comedy|Family           6.6          1961   \n",
       "10110  Adventure|Animation|Comedy|Family           6.6          1961   \n",
       "10110  Adventure|Animation|Comedy|Family           6.6          1961   \n",
       "9850         Adventure|Drama|History|War           7.5          1962   \n",
       "\n",
       "        revenue_adj  \n",
       "10143  4.423780e+08  \n",
       "10110  1.574815e+09  \n",
       "10110  1.574815e+09  \n",
       "10110  1.574815e+09  \n",
       "9850   5.045914e+08  "
      ]
     },
     "execution_count": 26,
     "metadata": {},
     "output_type": "execute_result"
    }
   ],
   "source": [
    "# explode the 'director' column\n",
    "new_top_movies_director = top_movies_director.explode('director')\n",
    "new_top_movies_director.head()"
   ]
  },
  {
   "cell_type": "code",
   "execution_count": 27,
   "metadata": {},
   "outputs": [
    {
     "data": {
      "text/plain": [
       "(63, 7)"
      ]
     },
     "execution_count": 27,
     "metadata": {},
     "output_type": "execute_result"
    }
   ],
   "source": [
    "new_top_movies_director.shape"
   ]
  },
  {
   "cell_type": "markdown",
   "metadata": {},
   "source": [
    ">the rows has increased to 63 from 56, which means 7 of the top movies were directed by more than one director "
   ]
  },
  {
   "cell_type": "code",
   "execution_count": 28,
   "metadata": {},
   "outputs": [
    {
     "data": {
      "text/plain": [
       "director\n",
       "Steven Spielberg        6\n",
       "James Cameron           3\n",
       "Peter Jackson           3\n",
       "Wolfgang Reitherman     2\n",
       "Gore Verbinski          2\n",
       "Guy Hamilton            2\n",
       "George Lucas            2\n",
       "Stanley Kubrick         2\n",
       "Ron Clements            1\n",
       "Richard Donner          1\n",
       "Lewis Gilbert           1\n",
       "Mel Brooks              1\n",
       "Michael Bay             1\n",
       "William Friedkin        1\n",
       "Mike Newell             1\n",
       "Mike Nichols            1\n",
       "Tony Scott              1\n",
       "Terence Young           1\n",
       "Roland Emmerich         1\n",
       "Richard Marquand        1\n",
       "Kelly Asbury            1\n",
       "Rob Minkoff             1\n",
       "Robert Wise             1\n",
       "Robert Zemeckis         1\n",
       "Roger Allers            1\n",
       "Lee Unkrich             1\n",
       "Adrian Lyne             1\n",
       "Joss Whedon             1\n",
       "John Woo                1\n",
       "Arthur Hiller           1\n",
       "Barry Levinson          1\n",
       "Chris Buck              1\n",
       "Chris Columbus          1\n",
       "Christopher Nolan       1\n",
       "Clyde Geronimi          1\n",
       "Conrad Vernon           1\n",
       "David Lean              1\n",
       "David Yates             1\n",
       "Francis Ford Coppola    1\n",
       "Frank Pierson           1\n",
       "George Roy Hill         1\n",
       "Hamilton Luske          1\n",
       "Irvin Kershner          1\n",
       "Irwin Winkler           1\n",
       "J.J. Abrams             1\n",
       "Jennifer Lee            1\n",
       "Jerry Zucker            1\n",
       "Andrew Adamson          1\n",
       "John Musker             1\n",
       "dtype: int64"
      ]
     },
     "execution_count": 28,
     "metadata": {},
     "output_type": "execute_result"
    }
   ],
   "source": [
    "#lets see which director made how many top movie of the release year \n",
    "new_top_movies_director.value_counts('director')"
   ]
  },
  {
   "cell_type": "code",
   "execution_count": 29,
   "metadata": {},
   "outputs": [
    {
     "data": {
      "image/png": "[encoded data removed]",
      "text/plain": [
       "<Figure size 864x432 with 1 Axes>"
      ]
     },
     "metadata": {
      "needs_background": "light"
     },
     "output_type": "display_data"
    }
   ],
   "source": [
    "# get the value counts of the 'director' column\n",
    "value_counts = new_top_movies_director['director'].value_counts()\n",
    "\n",
    "# get the labels for the x-axis (the unique values in the 'director' column)\n",
    "labels = value_counts.index\n",
    "\n",
    "# get the values for the y-axis (the counts for each unique value)\n",
    "values = value_counts.values\n",
    "\n",
    "# Set the figure size\n",
    "plt.figure(figsize=(12, 6))\n",
    "\n",
    "# create the bar graph\n",
    "plt.bar(labels, values)\n",
    "\n",
    "# Set the x-axis and y-axis labels\n",
    "plt.xlabel('Director')\n",
    "plt.ylabel('Number of movies')\n",
    "\n",
    "# Set the title\n",
    "plt.title('Number of top revenue movies by Director')\n",
    "\n",
    "#rotate the labels 90 degree to make them visible \n",
    "plt.xticks(rotation=90)\n",
    "\n",
    "# show the plot\n",
    "plt.show()"
   ]
  },
  {
   "cell_type": "markdown",
   "metadata": {},
   "source": [
    ">We see that most of the director only made 1 movie that became the top earner of the release year,  \n",
    ">But some directors has been successful over the years to make top revenue movies. we can filter those to better look at which directors have a repitation of making movies that earns the highest revenue. \n",
    "use where() function to filter the value counts \n"
   ]
  },
  {
   "cell_type": "code",
   "execution_count": 30,
   "metadata": {},
   "outputs": [
    {
     "data": {
      "image/png": "[encoded data removed]",
      "text/plain": [
       "<Figure size 1080x432 with 1 Axes>"
      ]
     },
     "metadata": {
      "needs_background": "light"
     },
     "output_type": "display_data"
    }
   ],
   "source": [
    "# get the value counts of the 'director' column\n",
    "value_counts = new_top_movies_director['director'].value_counts()\n",
    "\n",
    "\n",
    "# filter the value counts to include only those that are greater than 1\n",
    "filtered_value_counts = value_counts.where(value_counts > 1)\n",
    "\n",
    "# get the labels for the x-axis (the unique values in the 'director' column)\n",
    "labels = filtered_value_counts.index\n",
    "\n",
    "# get the values for the y-axis (the counts for each unique value)\n",
    "values = filtered_value_counts.values\n",
    "\n",
    "# Set the figure size\n",
    "plt.figure(figsize=(15, 6))\n",
    "\n",
    "# create the bar graph\n",
    "plt.bar(labels, values)\n",
    "\n",
    "# Set the x-axis and y-axis labels\n",
    "plt.xlabel('Director')\n",
    "plt.ylabel('Number of movies')\n",
    "\n",
    "# Set the title\n",
    "plt.title('Number of top revenue movies by Director')\n",
    "\n",
    "# show the plot\n",
    "plt.show()"
   ]
  },
  {
   "cell_type": "markdown",
   "metadata": {},
   "source": [
    "Steven Spielberg by far is the most successful director to make 6 movies which has made the top revenue of their release years.\n",
    "James Cameron and Peter Jackson has made 3 top movies by revenue of release year each. \n",
    "Guy Hamilton, George Lucas, Gore Verbinski, Stanley Kubrick, Wolfgang Reitherman are on 3rd rank with 2 top movies \n"
   ]
  },
  {
   "cell_type": "markdown",
   "metadata": {},
   "source": [
    "### Research Question 3 What is the vote average associated with the top movie of the release year by revenue?"
   ]
  },
  {
   "cell_type": "markdown",
   "metadata": {},
   "source": [
    "vote_average is a quatitative variable without clear catagories its hard to answer which vote_average is associated with the highest revenue. Therefore we can create a new category 'rating' with pandas cut() function, by using the min,25%, 50%, 75% and max of the vote_average the edges of the cut. \n",
    ">Rating:  \n",
    ">low_rating: Lowest 25% of vote_average values  \n",
    ">medium_rating: 25% - 50% of vote_average values  \n",
    ">moderate: 50% - 75% of vote_average values  \n",
    ">high_rating: 75% - max vote_average value  "
   ]
  },
  {
   "cell_type": "code",
   "execution_count": 31,
   "metadata": {},
   "outputs": [
    {
     "data": {
      "text/plain": [
       "count    56.000000\n",
       "mean      7.096429\n",
       "std       0.619960\n",
       "min       5.600000\n",
       "25%       6.700000\n",
       "50%       7.200000\n",
       "75%       7.500000\n",
       "max       8.300000\n",
       "Name: vote_average, dtype: float64"
      ]
     },
     "execution_count": 31,
     "metadata": {},
     "output_type": "execute_result"
    }
   ],
   "source": [
    "#create a copy of top movies and look at the statistics of vote_average \n",
    "top_movies_vote=top_movies.copy()\n",
    "top_movies_vote.describe()['vote_average']"
   ]
  },
  {
   "cell_type": "code",
   "execution_count": 32,
   "metadata": {},
   "outputs": [],
   "source": [
    "# Bin edges that will be used to \"cut\" the data into groups\n",
    "bin_edges=[5.6, 6.7, 7.2, 7.5, 8.3 ]"
   ]
  },
  {
   "cell_type": "code",
   "execution_count": 33,
   "metadata": {},
   "outputs": [],
   "source": [
    "# Labels for the four rating groups\n",
    "bin_names= ['low_rating','medium_rating','moderate_rating','high_rating']"
   ]
  },
  {
   "cell_type": "code",
   "execution_count": 34,
   "metadata": {},
   "outputs": [],
   "source": [
    "#create rating column \n",
    "top_movies_vote['rating']=pd.cut(top_movies_vote['vote_average'],bin_edges,labels=bin_names)"
   ]
  },
  {
   "cell_type": "code",
   "execution_count": 35,
   "metadata": {},
   "outputs": [
    {
     "data": {
      "text/html": [
       "<div>\n",
       "<style scoped>\n",
       "    .dataframe tbody tr th:only-of-type {\n",
       "        vertical-align: middle;\n",
       "    }\n",
       "\n",
       "    .dataframe tbody tr th {\n",
       "        vertical-align: top;\n",
       "    }\n",
       "\n",
       "    .dataframe thead th {\n",
       "        text-align: right;\n",
       "    }\n",
       "</style>\n",
       "<table border=\"1\" class=\"dataframe\">\n",
       "  <thead>\n",
       "    <tr style=\"text-align: right;\">\n",
       "      <th></th>\n",
       "      <th>id</th>\n",
       "      <th>original_title</th>\n",
       "      <th>director</th>\n",
       "      <th>genres</th>\n",
       "      <th>vote_average</th>\n",
       "      <th>release_year</th>\n",
       "      <th>revenue_adj</th>\n",
       "      <th>rating</th>\n",
       "    </tr>\n",
       "  </thead>\n",
       "  <tbody>\n",
       "    <tr>\n",
       "      <th>10143</th>\n",
       "      <td>967</td>\n",
       "      <td>Spartacus</td>\n",
       "      <td>Stanley Kubrick</td>\n",
       "      <td>Action|Drama|History</td>\n",
       "      <td>6.9</td>\n",
       "      <td>1960</td>\n",
       "      <td>4.423780e+08</td>\n",
       "      <td>medium_rating</td>\n",
       "    </tr>\n",
       "    <tr>\n",
       "      <th>10110</th>\n",
       "      <td>12230</td>\n",
       "      <td>One Hundred and One Dalmatians</td>\n",
       "      <td>Clyde Geronimi|Hamilton Luske|Wolfgang Reitherman</td>\n",
       "      <td>Adventure|Animation|Comedy|Family</td>\n",
       "      <td>6.6</td>\n",
       "      <td>1961</td>\n",
       "      <td>1.574815e+09</td>\n",
       "      <td>low_rating</td>\n",
       "    </tr>\n",
       "    <tr>\n",
       "      <th>9850</th>\n",
       "      <td>947</td>\n",
       "      <td>Lawrence of Arabia</td>\n",
       "      <td>David Lean</td>\n",
       "      <td>Adventure|Drama|History|War</td>\n",
       "      <td>7.5</td>\n",
       "      <td>1962</td>\n",
       "      <td>5.045914e+08</td>\n",
       "      <td>moderate_rating</td>\n",
       "    </tr>\n",
       "    <tr>\n",
       "      <th>10438</th>\n",
       "      <td>657</td>\n",
       "      <td>From Russia With Love</td>\n",
       "      <td>Terence Young</td>\n",
       "      <td>Action|Thriller|Adventure</td>\n",
       "      <td>6.7</td>\n",
       "      <td>1963</td>\n",
       "      <td>5.617734e+08</td>\n",
       "      <td>low_rating</td>\n",
       "    </tr>\n",
       "    <tr>\n",
       "      <th>9881</th>\n",
       "      <td>658</td>\n",
       "      <td>Goldfinger</td>\n",
       "      <td>Guy Hamilton</td>\n",
       "      <td>Adventure|Action|Thriller</td>\n",
       "      <td>7.0</td>\n",
       "      <td>1964</td>\n",
       "      <td>8.780804e+08</td>\n",
       "      <td>medium_rating</td>\n",
       "    </tr>\n",
       "  </tbody>\n",
       "</table>\n",
       "</div>"
      ],
      "text/plain": [
       "          id                  original_title  \\\n",
       "10143    967                       Spartacus   \n",
       "10110  12230  One Hundred and One Dalmatians   \n",
       "9850     947              Lawrence of Arabia   \n",
       "10438    657           From Russia With Love   \n",
       "9881     658                      Goldfinger   \n",
       "\n",
       "                                                director  \\\n",
       "10143                                    Stanley Kubrick   \n",
       "10110  Clyde Geronimi|Hamilton Luske|Wolfgang Reitherman   \n",
       "9850                                          David Lean   \n",
       "10438                                      Terence Young   \n",
       "9881                                        Guy Hamilton   \n",
       "\n",
       "                                  genres  vote_average  release_year  \\\n",
       "10143               Action|Drama|History           6.9          1960   \n",
       "10110  Adventure|Animation|Comedy|Family           6.6          1961   \n",
       "9850         Adventure|Drama|History|War           7.5          1962   \n",
       "10438          Action|Thriller|Adventure           6.7          1963   \n",
       "9881           Adventure|Action|Thriller           7.0          1964   \n",
       "\n",
       "        revenue_adj           rating  \n",
       "10143  4.423780e+08    medium_rating  \n",
       "10110  1.574815e+09       low_rating  \n",
       "9850   5.045914e+08  moderate_rating  \n",
       "10438  5.617734e+08       low_rating  \n",
       "9881   8.780804e+08    medium_rating  "
      ]
     },
     "execution_count": 35,
     "metadata": {},
     "output_type": "execute_result"
    }
   ],
   "source": [
    "# Checks for successful creation of this column\n",
    "top_movies_vote.head()"
   ]
  },
  {
   "cell_type": "code",
   "execution_count": 36,
   "metadata": {},
   "outputs": [
    {
     "data": {
      "text/plain": [
       "rating\n",
       "low_rating         15\n",
       "moderate_rating    15\n",
       "medium_rating      14\n",
       "high_rating        11\n",
       "dtype: int64"
      ]
     },
     "execution_count": 36,
     "metadata": {},
     "output_type": "execute_result"
    }
   ],
   "source": [
    "top_movies_vote.value_counts('rating')"
   ]
  },
  {
   "cell_type": "markdown",
   "metadata": {},
   "source": [
    "15 of the top movies have a low rating which is less than 6.7 vote_average, 15 are moderate_rating, 14 are medium and only 11 has a high vote_average greater than 7.5"
   ]
  },
  {
   "cell_type": "code",
   "execution_count": 37,
   "metadata": {},
   "outputs": [
    {
     "data": {
      "image/png": "[encoded data removed]",
      "text/plain": [
       "<Figure size 576x576 with 1 Axes>"
      ]
     },
     "metadata": {},
     "output_type": "display_data"
    }
   ],
   "source": [
    "# get the value counts of the 'rating' column\n",
    "value_counts = top_movies_vote['rating'].value_counts()\n",
    "\n",
    "# get the values for the slices of the pie chart (the counts for each unique value)\n",
    "slices = value_counts.values\n",
    "\n",
    "# get the labels for the slices (the unique values in the 'rating' column)\n",
    "labels = value_counts.index\n",
    "\n",
    "# colors for the slices\n",
    "colors = ['red', 'green', 'yellow', 'blue']\n",
    "\n",
    "# format for the percentages in the legend\n",
    "legendformat = '%1.1f%%'\n",
    "\n",
    "# create a figure and specify the size\n",
    "fig = plt.figure(figsize=(8, 8))\n",
    "\n",
    "# draw the pie chart\n",
    "plt.pie(slices, labels=labels, colors=colors, autopct=legendformat)\n",
    "\n",
    "# add a description for each rating and specify the location of the legend\n",
    "plt.legend(['low_rating= vote_average between 5.6 - 6.7', 'medium_rating= vote_average between 6.7 - 7.2',\n",
    "            'moderate_rating= vote_average between 7.2 - 7.5', 'high_rating= vote_average between 7.5 - 8.3']\n",
    "           , bbox_to_anchor=(1.2, 0.8))\n",
    "\n",
    "# show the plot\n",
    "plt.show()"
   ]
  },
  {
   "cell_type": "markdown",
   "metadata": {},
   "source": [
    ">From the results we can see that 80% of the top movies has vote_average less than 7.5. And 20% of the top movies has a vote_average greater than 7.5. "
   ]
  },
  {
   "cell_type": "markdown",
   "metadata": {},
   "source": [
    "<a id='conclusions'></a>\n",
    "## Conclusions\n",
    "> The projects main goal was to see what features are associated with a movie that makes the highest revenue of the release year. The project checked which genre is the most associated with the top movie of the release year by revenue, Which director made most of the top movies over the years, and how the vote_average of the movie affects if it is the top movie of the release year by revenue. \n",
    ">The results of the project has shown some insights like \n",
    "> 1. Most of the top movies had adventure genre as one of their charcteristics or genre category\n",
    "> 2. Most of the directors of these top movies directed only one movie that made the highest revenue of the year, with some exceptions like Steven Spilberg who made 6 top movies. \n",
    "> 3. Most of the top movies have vote_average less than 7.5  \n",
    "\n",
    ">From the results we might say that for a movie to be the highest earner of the year it is essential to have adventure genre included in the movies theme, high vote_average does not mean high revenue, and also the movie can be made by any capable director but if it is directed by Steven Spielberg it has a very high chance of being the highest revenue earner of the year. \n",
    "\n",
    ">Some of the limitations of the analysis where additional research can be done is the analysis can consider the budget for the movies and see if having high budget relates to getting the highest revenue.  \n"
   ]
  },
  {
   "cell_type": "markdown",
   "metadata": {},
   "source": [
    "## References \n",
    ">these are the references I used for this project other than the course materials at Udacity  \n",
    "\n",
    ">https://www.w3schools.com/python/pandas/ref_df_explode.asp#:~:text=Pandas%20DataFrame%20explode%20%28%29%20Method%201%20Definition%20and,not%20change%20the%20original%20DataFrame.%20%E2%9D%AE%20DataFrame%20Reference\n",
    "\n",
    ">https://www.geeksforgeeks.org/split-a-text-column-into-two-columns-in-pandas-dataframe/\n"
   ]
  }
 ],
 "metadata": {
  "kernelspec": {
   "display_name": "Python 3 (ipykernel)",
   "language": "python",
   "name": "python3"
  },
  "language_info": {
   "codemirror_mode": {
    "name": "ipython",
    "version": 3
   },
   "file_extension": ".py",
   "mimetype": "text/x-python",
   "name": "python",
   "nbconvert_exporter": "python",
   "pygments_lexer": "ipython3",
   "version": "3.9.12"
  }
 },
 "nbformat": 4,
 "nbformat_minor": 2
}
